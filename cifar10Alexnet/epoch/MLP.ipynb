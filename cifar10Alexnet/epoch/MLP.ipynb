{
 "cells": [
  {
   "cell_type": "code",
   "execution_count": 1,
   "metadata": {
    "collapsed": true
   },
   "outputs": [],
   "source": [
    "import os\n",
    "import sys\n",
    "import shutil\n",
    "import time\n",
    "import random\n",
    "import torch\n",
    "import torch.nn as nn\n",
    "import torch.nn.parallel\n",
    "import torch.backends.cudnn as cudnn\n",
    "import torch.optim as optim\n",
    "import torch.utils.data as data\n",
    "import torchvision.transforms as transforms\n",
    "import torchvision.datasets as datasets\n",
    "from cifar10_data import CIFAR10RandomLabels\n",
    "from torch.autograd import Variable\n",
    "import numpy as np\n",
    "import seaborn as sns\n",
    "import matplotlib.pyplot as plt\n",
    "from matplotlib.axes import Axes"
   ]
  },
  {
   "cell_type": "code",
   "execution_count": 2,
   "metadata": {
    "collapsed": true
   },
   "outputs": [],
   "source": [
    "class MLP(nn.Module):\n",
    "  def __init__(self, n_units, init_scale=1.0):\n",
    "    super(MLP, self).__init__()\n",
    "\n",
    "    self._n_units = copy.copy(n_units)\n",
    "    self._layers = []\n",
    "    for i in range(1, len(n_units)):\n",
    "      layer = nn.Linear(n_units[i-1], n_units[i], bias=False)\n",
    "      variance = math.sqrt(2.0 / (n_units[i-1] + n_units[i]))\n",
    "      layer.weight.data.normal_(0.0, init_scale * variance)\n",
    "      self._layers.append(layer)\n",
    "\n",
    "      name = 'fc%d' % i\n",
    "      if i == len(n_units) - 1:\n",
    "        name = 'fc'  # the prediction layer is just called fc\n",
    "      self.add_module(name, layer)\n",
    "\n",
    "\n",
    "  def forward(self, x):\n",
    "    x = x.view(-1, self._n_units[0])\n",
    "    out = self._layers[0](x)\n",
    "    for layer in self._layers[1:]:\n",
    "      out = F.relu(out)\n",
    "      out = layer(out)\n",
    "    return out\n"
   ]
  },
  {
   "cell_type": "code",
   "execution_count": 3,
   "metadata": {
    "collapsed": true
   },
   "outputs": [],
   "source": [
    "n_units = 512\n"
   ]
  },
  {
   "cell_type": "code",
   "execution_count": null,
   "metadata": {
    "collapsed": true
   },
   "outputs": [],
   "source": []
  }
 ],
 "metadata": {
  "kernelspec": {
   "display_name": "Python 3",
   "language": "python",
   "name": "python3"
  },
  "language_info": {
   "codemirror_mode": {
    "name": "ipython",
    "version": 3
   },
   "file_extension": ".py",
   "mimetype": "text/x-python",
   "name": "python",
   "nbconvert_exporter": "python",
   "pygments_lexer": "ipython3",
   "version": "3.6.3"
  }
 },
 "nbformat": 4,
 "nbformat_minor": 2
}
