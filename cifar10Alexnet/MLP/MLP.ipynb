{
 "cells": [
  {
   "cell_type": "code",
   "execution_count": 133,
   "metadata": {},
   "outputs": [],
   "source": [
    "import os\n",
    "import sys\n",
    "import shutil\n",
    "import time\n",
    "import random\n",
    "import torch\n",
    "import torch.nn as nn\n",
    "import torch.nn.parallel\n",
    "import torch.backends.cudnn as cudnn\n",
    "import torch.optim as optim\n",
    "import torch.utils.data as data\n",
    "import torchvision.transforms as transforms\n",
    "import torchvision.datasets as datasets\n",
    "from cifar10_data import CIFAR10RandomLabels\n",
    "from torch.autograd import Variable\n",
    "import numpy as np\n",
    "import seaborn as sns\n",
    "import matplotlib.pyplot as plt\n",
    "from matplotlib.axes import Axes\n",
    "import math\n",
    "import copy\n",
    "import torch.nn.functional as F"
   ]
  },
  {
   "cell_type": "code",
   "execution_count": 134,
   "metadata": {
    "collapsed": true
   },
   "outputs": [],
   "source": [
    "class MLP(nn.Module):\n",
    "  def __init__(self, n_units, init_scale=1.0):\n",
    "    super(MLP, self).__init__()\n",
    "\n",
    "    self._n_units = copy.copy(n_units)\n",
    "    self._layers = []\n",
    "    for i in range(1, len(n_units)):\n",
    "      layer = nn.Linear(n_units[i-1], n_units[i], bias=False)\n",
    "      self._layers.append(layer)\n",
    "\n",
    "      name = 'fc%d' % i\n",
    "      if i == len(n_units) - 1:\n",
    "        name = 'fc'  # the prediction layer is just called fc\n",
    "      self.add_module(name, layer)\n",
    "\n",
    "\n",
    "  def forward(self, x):\n",
    "    x = x.view(-1, self._n_units[0])\n",
    "    out = self._layers[0](x)\n",
    "    for layer in self._layers[1:]:\n",
    "      out = F.relu(out)\n",
    "      out = layer(out)\n",
    "    return out\n"
   ]
  },
  {
   "cell_type": "code",
   "execution_count": 135,
   "metadata": {},
   "outputs": [],
   "source": [
    "n_units = [512]\n",
    "n_units.append(10)\n",
    "n_units.insert(0, 32*32*3) \n"
   ]
  },
  {
   "cell_type": "code",
   "execution_count": 136,
   "metadata": {},
   "outputs": [
    {
     "data": {
      "text/plain": [
       "MLP(\n",
       "  (fc1): Linear(in_features=3072, out_features=512)\n",
       "  (fc): Linear(in_features=512, out_features=10)\n",
       ")"
      ]
     },
     "execution_count": 136,
     "metadata": {},
     "output_type": "execute_result"
    }
   ],
   "source": [
    "model = MLP(n_units)\n",
    "model_state = torch.load('model_nocorrupt', map_location=lambda storage, loc: storage)\n",
    "model.load_state_dict(model_state)\n",
    "model.eval()\n",
    "\n",
    "model_random =MLP(n_units)\n",
    "model_random_state = torch.load('model_corrupt', map_location=lambda storage, loc: storage)\n",
    "model_random.load_state_dict(model_random_state)\n",
    "model_random.eval()\n"
   ]
  },
  {
   "cell_type": "code",
   "execution_count": 137,
   "metadata": {
    "collapsed": true
   },
   "outputs": [],
   "source": [
    "def cal_margin(trainloader, model):\n",
    "#     model = AlexNet(num_classes)\n",
    "#     model_state = torch.load('model_'+str(iterations[i]), map_location=lambda storage, loc: storage)\n",
    "#     model.load_state_dict(model_state)\n",
    "    margin = []\n",
    "    for batch_idx, (inputs, targets) in enumerate(trainloader):\n",
    "        inp = inputs\n",
    "        tar = targets\n",
    "        b = model(Variable(inputs))\n",
    "        c = b.topk(2)[0][:,1].data.numpy()\n",
    "        bnp = b.data.numpy()\n",
    "        for j in range(b.shape[0]):\n",
    "            margin.append(bnp[j,tar[j]]-c[j])\n",
    "    margin = np.array(margin)\n",
    "    return margin"
   ]
  },
  {
   "cell_type": "code",
   "execution_count": 13,
   "metadata": {},
   "outputs": [
    {
     "name": "stdout",
     "output_type": "stream",
     "text": [
      "Files already downloaded and verified\n"
     ]
    }
   ],
   "source": [
    "normalize = transforms.Normalize(mean=[x/255.0 for x in [125.3, 123.0, 113.9]],\n",
    "                                 std=[x / 255.0 for x in [63.0, 62.1, 66.7]])\n",
    "transform_train = transforms.Compose([\n",
    "transforms.ToTensor(),\n",
    "normalize\n",
    "])\n",
    "\n",
    "transform_test = transforms.Compose([\n",
    "    transforms.ToTensor(),\n",
    "    normalize\n",
    "    ])\n",
    "dataloader = datasets.CIFAR10\n",
    "num_classes = 10\n",
    "train_batch = 128\n",
    "test_batch = 100\n",
    "workers = 4\n",
    "trainloader = data.DataLoader(\n",
    "    CIFAR10RandomLabels(root='/Users/hanxintian/Downloads/1005project/inference_project/cifar10Alexnet/data', train=True, download=True,\n",
    "                    num_classes=num_classes, transform = transform_train,\n",
    "                        corrupt_prob=0.0),\n",
    "    batch_size=train_batch, shuffle=True, num_workers=workers)"
   ]
  },
  {
   "cell_type": "code",
   "execution_count": 14,
   "metadata": {},
   "outputs": [
    {
     "name": "stdout",
     "output_type": "stream",
     "text": [
      "Files already downloaded and verified\n"
     ]
    }
   ],
   "source": [
    "normalize = transforms.Normalize(mean=[x/255.0 for x in [125.3, 123.0, 113.9]],\n",
    "                                 std=[x / 255.0 for x in [63.0, 62.1, 66.7]])\n",
    "transform_train = transforms.Compose([\n",
    "transforms.ToTensor(),\n",
    "normalize\n",
    "])\n",
    "\n",
    "transform_test = transforms.Compose([\n",
    "    transforms.ToTensor(),\n",
    "    normalize\n",
    "    ])\n",
    "dataloader = datasets.CIFAR10\n",
    "num_classes = 10\n",
    "train_batch = 128\n",
    "test_batch = 100\n",
    "workers = 4\n",
    "trainloader_random = data.DataLoader(\n",
    "    CIFAR10RandomLabels(root='/Users/hanxintian/Downloads/1005project/inference_project/cifar10Alexnet/data', train=True, download=True,\n",
    "                    num_classes=num_classes, transform = transform_train,\n",
    "                        corrupt_prob=1.0),\n",
    "    batch_size=train_batch, shuffle=True, num_workers=workers)"
   ]
  },
  {
   "cell_type": "code",
   "execution_count": 138,
   "metadata": {},
   "outputs": [],
   "source": [
    "margin = cal_margin( trainloader, model)"
   ]
  },
  {
   "cell_type": "code",
   "execution_count": 139,
   "metadata": {
    "collapsed": true
   },
   "outputs": [],
   "source": [
    "margin_random = cal_margin( trainloader_random, model_random)"
   ]
  },
  {
   "cell_type": "code",
   "execution_count": 116,
   "metadata": {},
   "outputs": [
    {
     "name": "stdout",
     "output_type": "stream",
     "text": [
      "Files already downloaded and verified\n",
      "Files already downloaded and verified\n"
     ]
    }
   ],
   "source": [
    "testloader = data.DataLoader(\n",
    "    CIFAR10RandomLabels(root='/Users/hanxintian/Downloads/1005project/inference_project/cifar10Alexnet/data', train=False, download=True,\n",
    "                    num_classes=num_classes, transform = transform_train,\n",
    "                        corrupt_prob=0.0),\n",
    "    batch_size=train_batch, shuffle=True, num_workers=workers)\n",
    "testloader_random = data.DataLoader(\n",
    "    CIFAR10RandomLabels(root='/Users/hanxintian/Downloads/1005project/inference_project/cifar10Alexnet/data', train=False, download=True,\n",
    "                    num_classes=num_classes, transform = transform_train,\n",
    "                        corrupt_prob=1.0),\n",
    "    batch_size=train_batch, shuffle=True, num_workers=workers)"
   ]
  },
  {
   "cell_type": "code",
   "execution_count": 140,
   "metadata": {},
   "outputs": [
    {
     "data": {
      "image/png": "[encoded data removed]",
      "text/plain": [
       "<matplotlib.figure.Figure at 0x1a14c14710>"
      ]
     },
     "metadata": {},
     "output_type": "display_data"
    }
   ],
   "source": [
    "sns.set_style({'ytick.color': 'w'})\n",
    "sns.set_style({'xtick.color': 'w'})\n",
    "sns.distplot(margin, hist=False, color='r', kde_kws={\"shade\": True}, label = 'cifar')\n",
    "sns.distplot(margin_random, hist=False, color='g', kde_kws={\"shade\": True}, label = 'cifar_random')\n",
    "plt.savefig('margin_MLP', bbox_inches='tight')\n",
    "plt.show()"
   ]
  },
  {
   "cell_type": "code",
   "execution_count": 40,
   "metadata": {
    "collapsed": true
   },
   "outputs": [],
   "source": [
    "def cal_complexity(model):\n",
    "    comp = 1.0\n",
    "    plu = 0.0\n",
    "    A1_spec = np.linalg.norm(model._layers[0].weight.data.numpy(), ord = 2)\n",
    "    A1_lin1 = torch.norm(model._layers[0].weight.view(-1).data, p = 1)\n",
    "    A2_spec = np.linalg.norm(model._layers[1].weight.data.numpy(), ord = 2)\n",
    "    A2_lin1 = torch.norm(model._layers[1].weight.view(-1).data, p = 1)\n",
    "    plu+= (A1_lin1/A1_spec)**(2.0/3)\n",
    "    plu+= (A2_lin1/A2_spec)**(2.0/3)\n",
    "    comp = comp*A1_spec*A2_spec*(plu**(3.0/2))\n",
    "    return comp"
   ]
  },
  {
   "cell_type": "code",
   "execution_count": 51,
   "metadata": {
    "collapsed": true
   },
   "outputs": [],
   "source": [
    "def cal_m_complexity(model):\n",
    "    comp = 1.0\n",
    "    plu = 0.0\n",
    "    A1_spec = np.linalg.norm(model._layers[0].weight.data.numpy(), ord = 2)\n",
    "    A1_lin2 = torch.norm(model._layers[0].weight.view(-1).data, p = 2)\n",
    "    A2_spec = np.linalg.norm(model._layers[1].weight.data.numpy(), ord = 2)\n",
    "    A2_lin2 = torch.norm(model._layers[1].weight.view(-1).data, p = 2)\n",
    "    plu+= (A1_lin2/A1_spec)**(2.0/3)\n",
    "    plu+= (A2_lin2/A2_spec)**(2.0/3)\n",
    "    comp = comp*A1_spec*A2_spec*(plu**(3.0/2))\n",
    "    return comp"
   ]
  },
  {
   "cell_type": "code",
   "execution_count": 141,
   "metadata": {},
   "outputs": [],
   "source": [
    "comp = cal_complexity(model)\n",
    "comp_random = cal_complexity(model_random)"
   ]
  },
  {
   "cell_type": "code",
   "execution_count": 142,
   "metadata": {},
   "outputs": [
    {
     "data": {
      "text/plain": [
       "720749.9786563305"
      ]
     },
     "execution_count": 142,
     "metadata": {},
     "output_type": "execute_result"
    }
   ],
   "source": [
    "comp"
   ]
  },
  {
   "cell_type": "code",
   "execution_count": 143,
   "metadata": {},
   "outputs": [
    {
     "data": {
      "text/plain": [
       "484683.39910763444"
      ]
     },
     "execution_count": 143,
     "metadata": {},
     "output_type": "execute_result"
    }
   ],
   "source": [
    "comp_random"
   ]
  },
  {
   "cell_type": "code",
   "execution_count": 42,
   "metadata": {},
   "outputs": [],
   "source": [
    "ratio = comp_random/comp"
   ]
  },
  {
   "cell_type": "code",
   "execution_count": 144,
   "metadata": {},
   "outputs": [],
   "source": [
    "comp_m = cal_m_complexity(model)\n",
    "comp_m_random = cal_m_complexity(model_random)"
   ]
  },
  {
   "cell_type": "code",
   "execution_count": 145,
   "metadata": {},
   "outputs": [
    {
     "data": {
      "text/plain": [
       "0.6840388521358538"
      ]
     },
     "execution_count": 145,
     "metadata": {},
     "output_type": "execute_result"
    }
   ],
   "source": [
    "comp_m_random/comp_m"
   ]
  },
  {
   "cell_type": "code",
   "execution_count": 132,
   "metadata": {},
   "outputs": [
    {
     "data": {
      "text/plain": [
       "35.7099"
      ]
     },
     "execution_count": 132,
     "metadata": {},
     "output_type": "execute_result"
    }
   ],
   "source": [
    "np.linalg.norm(model_random._layers[0].weight.data.numpy(), ord = 1)"
   ]
  },
  {
   "cell_type": "code",
   "execution_count": 131,
   "metadata": {},
   "outputs": [
    {
     "data": {
      "text/plain": [
       "27.680691"
      ]
     },
     "execution_count": 131,
     "metadata": {},
     "output_type": "execute_result"
    }
   ],
   "source": [
    "np.linalg.norm(model._layers[0].weight.data.numpy(), ord = 1)"
   ]
  },
  {
   "cell_type": "code",
   "execution_count": 130,
   "metadata": {},
   "outputs": [
    {
     "data": {
      "text/plain": [
       "2.6315098"
      ]
     },
     "execution_count": 130,
     "metadata": {},
     "output_type": "execute_result"
    }
   ],
   "source": [
    "np.linalg.norm(model._layers[1].weight.data.numpy(), ord = 1)"
   ]
  },
  {
   "cell_type": "code",
   "execution_count": 129,
   "metadata": {},
   "outputs": [
    {
     "data": {
      "text/plain": [
       "1.9903992"
      ]
     },
     "execution_count": 129,
     "metadata": {},
     "output_type": "execute_result"
    }
   ],
   "source": [
    "np.linalg.norm(model_random._layers[1].weight.data.numpy(), ord = 1)"
   ]
  },
  {
   "cell_type": "code",
   "execution_count": 48,
   "metadata": {},
   "outputs": [
    {
     "data": {
      "text/plain": [
       "<bound method Module.named_parameters of MLP(\n",
       "  (fc1): Linear(in_features=3072, out_features=512)\n",
       "  (fc): Linear(in_features=512, out_features=10)\n",
       ")>"
      ]
     },
     "execution_count": 48,
     "metadata": {},
     "output_type": "execute_result"
    }
   ],
   "source": [
    "model.named_parameters"
   ]
  },
  {
   "cell_type": "code",
   "execution_count": 117,
   "metadata": {},
   "outputs": [],
   "source": [
    "def softmax(x):\n",
    "    xmax = np.max(x)\n",
    "    return(np.exp(x)/sum(np.exp(x)))\n",
    "def cal_fr(testloader, model):\n",
    "#     model = AlexNet(num_classes)\n",
    "#     model_state = torch.load('model_'+str(iterations[i]), map_location=lambda storage, loc: storage)\n",
    "#     model.load_state_dict(model_state)\n",
    "    fr = []\n",
    "    for batch_idx, (inputs, targets) in enumerate(testloader):\n",
    "        inp = inputs\n",
    "        tar = targets\n",
    "        b = model(Variable(inputs))\n",
    "        bsm = F.softmax(b, dim = 1)\n",
    "        bsm = bsm.data.numpy()\n",
    "        bnp = b.data.numpy()\n",
    "        for j in range(b.shape[0]):\n",
    "            fr0 = (np.dot(bsm[j],bnp[j])-bnp[j,tar[j]])**2\n",
    "            fr.append(fr0)\n",
    "    fr = np.array(fr)\n",
    "    fr = sum(fr)\n",
    "    return fr"
   ]
  },
  {
   "cell_type": "code",
   "execution_count": 118,
   "metadata": {},
   "outputs": [],
   "source": [
    "fr = cal_fr(testloader, model)\n",
    "fr_random = cal_fr(testloader_random, model_random)"
   ]
  },
  {
   "cell_type": "code",
   "execution_count": 121,
   "metadata": {},
   "outputs": [
    {
     "data": {
      "text/plain": [
       "0.58021586900915412"
      ]
     },
     "execution_count": 121,
     "metadata": {},
     "output_type": "execute_result"
    }
   ],
   "source": []
  },
  {
   "cell_type": "code",
   "execution_count": 120,
   "metadata": {},
   "outputs": [
    {
     "data": {
      "text/plain": [
       "1474614.2491689611"
      ]
     },
     "execution_count": 120,
     "metadata": {},
     "output_type": "execute_result"
    }
   ],
   "source": [
    "fr_random"
   ]
  },
  {
   "cell_type": "code",
   "execution_count": 94,
   "metadata": {},
   "outputs": [
    {
     "data": {
      "image/png": "[encoded data removed]",
      "text/plain": [
       "<matplotlib.figure.Figure at 0x1a32340d30>"
      ]
     },
     "metadata": {},
     "output_type": "display_data"
    }
   ],
   "source": [
    "sns.set_style({'ytick.color': 'w'})\n",
    "sns.set_style({'xtick.color': 'w'})\n",
    "sns.distplot(margin, hist=False, color='r', kde_kws={\"shade\": True}, label = 'cifar')\n",
    "sns.distplot(margin_random*0.68, hist=False, color='g', kde_kws={\"shade\": True}, label = 'cifar_random')\n",
    "plt.savefig('s_margin_MLP', bbox_inches='tight')\n",
    "plt.show()"
   ]
  },
  {
   "cell_type": "code",
   "execution_count": 95,
   "metadata": {},
   "outputs": [
    {
     "data": {
      "image/png": "[encoded data removed]",
      "text/plain": [
       "<matplotlib.figure.Figure at 0x1063e3eb8>"
      ]
     },
     "metadata": {},
     "output_type": "display_data"
    }
   ],
   "source": [
    "sns.set_style({'ytick.color': 'w'})\n",
    "sns.set_style({'xtick.color': 'w'})\n",
    "sns.distplot(margin, hist=False, color='r', kde_kws={\"shade\": True}, label = 'cifar')\n",
    "sns.distplot(margin_random*0.69, hist=False, color='g', kde_kws={\"shade\": True}, label = 'cifar_random')\n",
    "plt.savefig('m_margin_MLP', bbox_inches='tight')\n",
    "plt.show()"
   ]
  },
  {
   "cell_type": "code",
   "execution_count": 122,
   "metadata": {},
   "outputs": [
    {
     "data": {
      "image/png": "[encoded data removed]",
      "text/plain": [
       "<matplotlib.figure.Figure at 0x1a14c14860>"
      ]
     },
     "metadata": {},
     "output_type": "display_data"
    }
   ],
   "source": [
    "sns.set_style({'ytick.color': 'w'})\n",
    "sns.set_style({'xtick.color': 'w'})\n",
    "sns.distplot(margin, hist=False, color='r', kde_kws={\"shade\": True}, label = 'cifar')\n",
    "sns.distplot(margin_random*0.58, hist=False, color='g', kde_kws={\"shade\": True}, label = 'cifar_random')\n",
    "plt.savefig('f_margin_MLP', bbox_inches='tight')\n",
    "plt.show()"
   ]
  },
  {
   "cell_type": "code",
   "execution_count": null,
   "metadata": {
    "collapsed": true
   },
   "outputs": [],
   "source": []
  }
 ],
 "metadata": {
  "kernelspec": {
   "display_name": "Python 3",
   "language": "python",
   "name": "python3"
  }
 },
 "nbformat": 4,
 "nbformat_minor": 2
}
