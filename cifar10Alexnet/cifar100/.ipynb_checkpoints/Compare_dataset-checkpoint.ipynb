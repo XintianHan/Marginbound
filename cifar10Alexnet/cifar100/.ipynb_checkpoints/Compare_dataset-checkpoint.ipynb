{
 "cells": [
  {
   "cell_type": "code",
   "execution_count": 1,
   "metadata": {
    "collapsed": true
   },
   "outputs": [],
   "source": [
    "import os\n",
    "import sys\n",
    "import shutil\n",
    "import time\n",
    "import random\n",
    "import torch\n",
    "import torch.nn as nn\n",
    "import torch.nn.parallel\n",
    "import torch.backends.cudnn as cudnn\n",
    "import torch.optim as optim\n",
    "import torch.utils.data as data\n",
    "import torchvision.transforms as transforms\n",
    "import torchvision.datasets as datasets\n",
    "from cifar10_data import CIFAR10RandomLabels\n",
    "from torch.autograd import Variable\n",
    "import numpy as np\n",
    "import seaborn as sns\n",
    "import matplotlib.pyplot as plt\n",
    "from matplotlib.axes import Axes"
   ]
  },
  {
   "cell_type": "code",
   "execution_count": 2,
   "metadata": {
    "collapsed": true
   },
   "outputs": [],
   "source": [
    "class AlexNet(nn.Module):\n",
    "    def __init__(self, num_classes=10):\n",
    "        super(AlexNet, self).__init__()\n",
    "        self.features = nn.Sequential(\n",
    "            nn.Conv2d(3, 64, kernel_size=11, stride=4, padding=5),\n",
    "            nn.ReLU(inplace=True),\n",
    "            nn.MaxPool2d(kernel_size=2, stride=2),\n",
    "            nn.Conv2d(64, 192, kernel_size=5, padding=2),\n",
    "            nn.ReLU(inplace=True),\n",
    "            nn.MaxPool2d(kernel_size=2, stride=2),\n",
    "            nn.Conv2d(192, 384, kernel_size=3, padding=1),\n",
    "            nn.ReLU(inplace=True),\n",
    "            nn.Conv2d(384, 256, kernel_size=3, padding=1),\n",
    "            nn.ReLU(inplace=True),\n",
    "            nn.Conv2d(256, 256, kernel_size=3, padding=1),\n",
    "            nn.ReLU(inplace=True),\n",
    "            nn.MaxPool2d(kernel_size=2, stride=2),\n",
    "        )\n",
    "        self.classifier = nn.Linear(256, num_classes)\n",
    "    def forward(self, x):\n",
    "        x = self.features(x)\n",
    "        x = x.view(x.size(0), -1)\n",
    "        x = self.classifier(x)\n",
    "        return x"
   ]
  },
  {
   "cell_type": "code",
   "execution_count": 46,
   "metadata": {
    "collapsed": true
   },
   "outputs": [],
   "source": [
    "class MyAlexNetFeatureExtractor(nn.Module):\n",
    "    def __init__(self, model):\n",
    "        super(MyAlexNetFeatureExtractor, self).__init__()\n",
    "        self.Conv2d_0 = model.features[0]\n",
    "        self.ReLU_1 = model.features[1]\n",
    "        self.MaxPool2d_2 = model.features[2]\n",
    "        self.Conv2d_3 = model.features[3]\n",
    "        self.ReLU_4 = model.features[4]\n",
    "        self.MaxPool2d_5 = model.features[5]\n",
    "        self.Conv2d_6 = model.features[6]\n",
    "        self.ReLU_7 = model.features[7]\n",
    "        self.Conv2d_8 = model.features[8]\n",
    "        self.ReLU_9 = model.features[9]\n",
    "        self.Conv2d_10 = model.features[10]\n",
    "        self.ReLU_11 = model.features[11]\n",
    "        self.MaxPool2d_12 = model.features[12]\n",
    "        self.linear = model.classifier\n",
    "    def forward(self, x):\n",
    "        out0 = self.Conv2d_0(x)\n",
    "        out1 = self.ReLU_1(out0)\n",
    "        out2 = self.MaxPool2d_2(out1)\n",
    "        out3 = self.Conv2d_3(out2)\n",
    "        out4 = self.ReLU_4(out3)\n",
    "        out5 = self.MaxPool2d_5(out4)\n",
    "        out6 = self.Conv2d_6(out5)\n",
    "        out7 = self.ReLU_7(out6)\n",
    "        out8 = self.Conv2d_8(out7)\n",
    "        out9 = self.ReLU_9(out8)\n",
    "        out10 = self.Conv2d_10(out9)\n",
    "        out11 = self.ReLU_11(out10)\n",
    "        out12 = self.MaxPool2d_12(out11)\n",
    "        out12 = out12.view(out12.size(0), -1)\n",
    "        out13 = self.linear(out12)\n",
    "        # return reshaped tensor to calculate the spectral norm\n",
    "        f0 = out0.view(out0.size(0),-1).data\n",
    "        f2 = out2.view(out2.size(0),-1).data\n",
    "        f3 = out3.view(out3.size(0),-1).data\n",
    "        f5 = out5.view(out5.size(0),-1).data\n",
    "        f6 = out6.view(out6.size(0),-1).data\n",
    "        f7 = out7.view(out7.size(0),-1).data\n",
    "        f8 = out8.view(out8.size(0),-1).data\n",
    "        f9 = out9.view(out9.size(0),-1).data\n",
    "        f10 = out10.view(out10.size(0),-1).data\n",
    "        return f0,f2,f3,f5,f6,f7,f8,f9,f10"
   ]
  },
  {
   "cell_type": "code",
   "execution_count": 5,
   "metadata": {
    "collapsed": true
   },
   "outputs": [],
   "source": [
    "def cal_margin(trainloader, model):\n",
    "#     model = AlexNet(num_classes)\n",
    "#     model_state = torch.load('model_'+str(iterations[i]), map_location=lambda storage, loc: storage)\n",
    "#     model.load_state_dict(model_state)\n",
    "    margin = []\n",
    "    for batch_idx, (inputs, targets) in enumerate(trainloader):\n",
    "        inp = inputs\n",
    "        tar = targets\n",
    "        b = model(Variable(inputs))\n",
    "        c = b.topk(2)[0][:,1].data.numpy()\n",
    "        bnp = b.data.numpy()\n",
    "        for j in range(b.shape[0]):\n",
    "            margin.append(bnp[j,tar[j]]-c[j])\n",
    "    margin = np.array(margin)\n",
    "    return margin"
   ]
  },
  {
   "cell_type": "code",
   "execution_count": 6,
   "metadata": {},
   "outputs": [
    {
     "name": "stdout",
     "output_type": "stream",
     "text": [
      "Files already downloaded and verified\n"
     ]
    }
   ],
   "source": [
    "normalize = transforms.Normalize(mean=[x/255.0 for x in [125.3, 123.0, 113.9]],\n",
    "                                 std=[x / 255.0 for x in [63.0, 62.1, 66.7]])\n",
    "transform_train = transforms.Compose([\n",
    "transforms.ToTensor(),\n",
    "normalize\n",
    "])\n",
    "\n",
    "transform_test = transforms.Compose([\n",
    "    transforms.ToTensor(),\n",
    "    normalize\n",
    "    ])\n",
    "dataloader = datasets.CIFAR10\n",
    "num_classes = 10\n",
    "train_batch = 128\n",
    "test_batch = 100\n",
    "workers = 4\n",
    "trainloader_random = data.DataLoader(\n",
    "    CIFAR10RandomLabels(root='/Users/hanxintian/Downloads/1005project/inference_project/cifar10Alexnet/data', train=True, download=True,\n",
    "                    num_classes=num_classes, transform = transform_train,\n",
    "                        corrupt_prob=1.0),\n",
    "    batch_size=train_batch, shuffle=True, num_workers=workers)"
   ]
  },
  {
   "cell_type": "code",
   "execution_count": 7,
   "metadata": {},
   "outputs": [
    {
     "name": "stdout",
     "output_type": "stream",
     "text": [
      "Files already downloaded and verified\n"
     ]
    }
   ],
   "source": [
    "normalize = transforms.Normalize(mean=[x/255.0 for x in [125.3, 123.0, 113.9]],\n",
    "                                 std=[x / 255.0 for x in [63.0, 62.1, 66.7]])\n",
    "transform_train = transforms.Compose([\n",
    "transforms.ToTensor(),\n",
    "normalize\n",
    "])\n",
    "\n",
    "transform_test = transforms.Compose([\n",
    "    transforms.ToTensor(),\n",
    "    normalize\n",
    "    ])\n",
    "dataloader = datasets.CIFAR10\n",
    "num_classes = 10\n",
    "train_batch = 128\n",
    "test_batch = 100\n",
    "workers = 4\n",
    "trainloader = data.DataLoader(\n",
    "    CIFAR10RandomLabels(root='/Users/hanxintian/Downloads/1005project/inference_project/cifar10Alexnet/data', train=True, download=True,\n",
    "                    num_classes=num_classes, transform = transform_train,\n",
    "                        corrupt_prob=0.0),\n",
    "    batch_size=train_batch, shuffle=True, num_workers=workers)"
   ]
  },
  {
   "cell_type": "code",
   "execution_count": 22,
   "metadata": {},
   "outputs": [
    {
     "data": {
      "text/plain": [
       "AlexNet(\n",
       "  (features): Sequential(\n",
       "    (0): Conv2d (3, 64, kernel_size=(11, 11), stride=(4, 4), padding=(5, 5))\n",
       "    (1): ReLU(inplace)\n",
       "    (2): MaxPool2d(kernel_size=(2, 2), stride=(2, 2), dilation=(1, 1))\n",
       "    (3): Conv2d (64, 192, kernel_size=(5, 5), stride=(1, 1), padding=(2, 2))\n",
       "    (4): ReLU(inplace)\n",
       "    (5): MaxPool2d(kernel_size=(2, 2), stride=(2, 2), dilation=(1, 1))\n",
       "    (6): Conv2d (192, 384, kernel_size=(3, 3), stride=(1, 1), padding=(1, 1))\n",
       "    (7): ReLU(inplace)\n",
       "    (8): Conv2d (384, 256, kernel_size=(3, 3), stride=(1, 1), padding=(1, 1))\n",
       "    (9): ReLU(inplace)\n",
       "    (10): Conv2d (256, 256, kernel_size=(3, 3), stride=(1, 1), padding=(1, 1))\n",
       "    (11): ReLU(inplace)\n",
       "    (12): MaxPool2d(kernel_size=(2, 2), stride=(2, 2), dilation=(1, 1))\n",
       "  )\n",
       "  (classifier): Linear(in_features=256, out_features=10)\n",
       ")"
      ]
     },
     "execution_count": 22,
     "metadata": {},
     "output_type": "execute_result"
    }
   ],
   "source": [
    "model = AlexNet(10)\n",
    "model_state = torch.load('model_300_cifar', map_location=lambda storage, loc: storage)\n",
    "model.load_state_dict(model_state)\n",
    "model.eval()"
   ]
  },
  {
   "cell_type": "code",
   "execution_count": 9,
   "metadata": {},
   "outputs": [
    {
     "data": {
      "text/plain": [
       "AlexNet(\n",
       "  (features): Sequential(\n",
       "    (0): Conv2d (3, 64, kernel_size=(11, 11), stride=(4, 4), padding=(5, 5))\n",
       "    (1): ReLU(inplace)\n",
       "    (2): MaxPool2d(kernel_size=(2, 2), stride=(2, 2), dilation=(1, 1))\n",
       "    (3): Conv2d (64, 192, kernel_size=(5, 5), stride=(1, 1), padding=(2, 2))\n",
       "    (4): ReLU(inplace)\n",
       "    (5): MaxPool2d(kernel_size=(2, 2), stride=(2, 2), dilation=(1, 1))\n",
       "    (6): Conv2d (192, 384, kernel_size=(3, 3), stride=(1, 1), padding=(1, 1))\n",
       "    (7): ReLU(inplace)\n",
       "    (8): Conv2d (384, 256, kernel_size=(3, 3), stride=(1, 1), padding=(1, 1))\n",
       "    (9): ReLU(inplace)\n",
       "    (10): Conv2d (256, 256, kernel_size=(3, 3), stride=(1, 1), padding=(1, 1))\n",
       "    (11): ReLU(inplace)\n",
       "    (12): MaxPool2d(kernel_size=(2, 2), stride=(2, 2), dilation=(1, 1))\n",
       "  )\n",
       "  (classifier): Linear(in_features=256, out_features=10)\n",
       ")"
      ]
     },
     "execution_count": 9,
     "metadata": {},
     "output_type": "execute_result"
    }
   ],
   "source": [
    "model_random = AlexNet(10)\n",
    "model_random_state = torch.load('model_300_random', map_location=lambda storage, loc: storage)\n",
    "model_random.load_state_dict(model_random_state)\n",
    "model_random.eval()"
   ]
  },
  {
   "cell_type": "code",
   "execution_count": 23,
   "metadata": {
    "collapsed": true
   },
   "outputs": [],
   "source": [
    "margin = cal_margin(trainloader, model)\n",
    "margin_random = cal_margin(trainloader_random, model_random)"
   ]
  },
  {
   "cell_type": "code",
   "execution_count": 113,
   "metadata": {},
   "outputs": [
    {
     "data": {
      "image/png": "[encoded data removed]",
      "text/plain": [
       "<matplotlib.figure.Figure at 0x11a4adfd0>"
      ]
     },
     "metadata": {},
     "output_type": "display_data"
    }
   ],
   "source": [
    "sns.distplot(margin, hist=False, color='r', kde_kws={\"shade\": True}, label = 'cifar')\n",
    "sns.distplot(margin_random, hist=False, color='g', kde_kws={\"shade\": True}, label = 'cifar_random')\n",
    "plt.savefig('margin.pdf', bbox_inches='tight')\n",
    "plt.show()"
   ]
  },
  {
   "cell_type": "code",
   "execution_count": 114,
   "metadata": {
    "collapsed": true
   },
   "outputs": [],
   "source": [
    "def cal_spectral(trainloader, model):\n",
    "    FeatureExtractor = MyAlexNetFeatureExtractor(model)\n",
    "    average = np.zeros(5)\n",
    "    count = 0.0\n",
    "    for batch_idx, (inputs, targets) in enumerate(trainloader):\n",
    "        count += inputs.shape[0]\n",
    "        inp = inputs\n",
    "        inp_flat = inp.view(inp.size(0),-1)\n",
    "        f0,f2,f3,f5,f6,f7,f8,f9, f10 = FeatureExtractor(Variable(inp))\n",
    "        average[0]+= sum(torch.norm(f0,2,dim = 1)/torch.norm(inp_flat,2,dim = 1))\n",
    "        average[1]+= sum(torch.norm(f3,2,dim = 1)/torch.norm(f2,2,dim = 1))\n",
    "        average[2]+= sum(torch.norm(f6,2,dim = 1)/torch.norm(f5,2,dim = 1))\n",
    "        average[3]+= sum(torch.norm(f7,2,dim = 1)/torch.norm(f8,2,dim = 1))\n",
    "        average[4]+= sum(torch.norm(f10,2,dim = 1)/torch.norm(f9,2,dim = 1))\n",
    "    average = average/float(count)  \n",
    "    return average"
   ]
  },
  {
   "cell_type": "code",
   "execution_count": 72,
   "metadata": {
    "collapsed": true
   },
   "outputs": [],
   "source": [
    "def cal_Lipschitz(A, model):\n",
    "    ### Input the spectral norms A calculated by cal_spectral\n",
    "    Lip = 1\n",
    "    for i in range(A.shape[0]):\n",
    "        Lip *= A[i]\n",
    "    Lip *= np.linalg.norm(model.classifier.weight.data.numpy(), ord = 2)\n",
    "    return Lip"
   ]
  },
  {
   "cell_type": "code",
   "execution_count": 91,
   "metadata": {
    "collapsed": true
   },
   "outputs": [],
   "source": [
    "def cal_complexity(A, model):\n",
    "    ### Input the spectral norms A calculated by cal_spectral\n",
    "    complexity = cal_Lipschitz(A, model)\n",
    "    plu = 0\n",
    "    # 1-norm\n",
    "    indices = [0,3,6,8,10]\n",
    "    for i in range(A.shape[0]):\n",
    "        A1 = torch.norm(model.features[indices[i]].weight.view(-1).data, p = 1)\n",
    "        plu += (A1/A[i])**(2.0/3)\n",
    "    lin_spec = np.linalg.norm(model.classifier.weight.data.numpy(), ord = 2)\n",
    "    lin_1 = torch.norm(model.classifier.weight.view(-1).data, p = 1)\n",
    "    plu += (lin_1/lin_spec)**(2.0/3)\n",
    "    plu = plu**(3.0/2)\n",
    "    complexity = complexity * plu\n",
    "    return complexity"
   ]
  },
  {
   "cell_type": "code",
   "execution_count": 115,
   "metadata": {
    "collapsed": true
   },
   "outputs": [],
   "source": [
    "A_spectral = cal_spectral(trainloader, model)\n",
    "A_spectral_random = cal_spectral(trainloader_random, model_random)"
   ]
  },
  {
   "cell_type": "code",
   "execution_count": 118,
   "metadata": {
    "collapsed": true
   },
   "outputs": [],
   "source": [
    "comp = cal_complexity(A_spectral, model)\n",
    "comp_random = cal_complexity(A_spectral_random, model_random)"
   ]
  },
  {
   "cell_type": "code",
   "execution_count": 119,
   "metadata": {
    "collapsed": true
   },
   "outputs": [],
   "source": [
    "### Normalize\n",
    "comp = comp/10000.0\n",
    "comp_random = comp_random/10000.0"
   ]
  },
  {
   "cell_type": "code",
   "execution_count": 120,
   "metadata": {},
   "outputs": [
    {
     "data": {
      "image/png": "[encoded data removed]",
      "text/plain": [
       "<matplotlib.figure.Figure at 0x11a42e3c8>"
      ]
     },
     "metadata": {},
     "output_type": "display_data"
    }
   ],
   "source": [
    "sns.set_style({'ytick.color': 'w'})\n",
    "sns.set_style({'xtick.color': 'w'})\n",
    "sns.distplot(margin/comp, hist=False, color='r', kde_kws={\"shade\": True}, label = 'cifar')\n",
    "sns.distplot(margin_random/comp_random, hist=False, color='g', kde_kws={\"shade\": True}, label = 'cifar_random')\n",
    "plt.savefig('margin_normalized.pdf', bbox_inches='tight')\n",
    "plt.show()"
   ]
  },
  {
   "cell_type": "code",
   "execution_count": 116,
   "metadata": {},
   "outputs": [
    {
     "data": {
      "text/plain": [
       "3.6700596427573293"
      ]
     },
     "execution_count": 116,
     "metadata": {},
     "output_type": "execute_result"
    }
   ],
   "source": [
    "cal_Lipschitz(A_spectral, model)"
   ]
  },
  {
   "cell_type": "code",
   "execution_count": 117,
   "metadata": {},
   "outputs": [
    {
     "data": {
      "text/plain": [
       "5.3000662956031341"
      ]
     },
     "execution_count": 117,
     "metadata": {},
     "output_type": "execute_result"
    }
   ],
   "source": [
    "cal_Lipschitz(A_spectral_random, model_random)"
   ]
  },
  {
   "cell_type": "code",
   "execution_count": 64,
   "metadata": {
    "collapsed": true
   },
   "outputs": [],
   "source": [
    "A = 1\n",
    "B = 1\n",
    "for i in range(A_spectral_random.shape[0]):\n",
    "    A = A*A_spectral_random[i]"
   ]
  }
 ],
 "metadata": {
  "kernelspec": {
   "display_name": "Python 3",
   "language": "python",
   "name": "python3"
  },
  "language_info": {
   "codemirror_mode": {
    "name": "ipython",
    "version": 3
   },
   "file_extension": ".py",
   "mimetype": "text/x-python",
   "name": "python",
   "nbconvert_exporter": "python",
   "pygments_lexer": "ipython3",
   "version": "3.6.3"
  }
 },
 "nbformat": 4,
 "nbformat_minor": 2
}
